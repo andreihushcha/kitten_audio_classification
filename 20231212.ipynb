{
 "cells": [
  {
   "cell_type": "markdown",
   "metadata": {},
   "source": []
  },
  {
   "cell_type": "markdown",
   "metadata": {},
   "source": [
    "# DATA UNDERSTANDING #\n",
    "\n",
    "1. **Building the Dataset**\n",
    "\n",
    "_1.1 Participants:_\n",
    "- A lively and amicable 3.5-month-old male Scottish Fold kitten named Mio served as the primary subject.\n",
    "- A diverse group of human participants, including myself as a researcher and a person representing adult male vocalizations, my daughter for children's vocalizations, and my sister representing adult female vocalizations.\n",
    "\n",
    "_1.2 Experimental Contexts:_  \n",
    "Accompanied by the study author, the kitten was exposed to four distinct contexts aimed at eliciting varied meows:\n",
    "\n",
    "- Waiting for Food (Condition `F`):\n",
    "The author initiated routine morning recordings preceding mealtime, with food delivered after the recordings done.\n",
    "\n",
    "- Seeking Attention in Isolation (Condition `A`):\n",
    "The kitten was placed in an isolated room with ample provisions and signaled its need for attention by meowing at the closed door.\n",
    "\n",
    "- Contentment (Condition `C`):\n",
    "The kitten is purring while petted and caressed by author in a home environment for 3-5 minutes.\n",
    "\n",
    "- Thrill (Condition `T`):\n",
    "Meowing during a state of contentment.\n",
    "\n",
    "Typically, vocalizations in a single exposure comprised multiple repeated meows.\n",
    "\n",
    "2. **Data Acquisition Process**\n",
    "\n",
    "The experiment spanned 12-15 days, conducted in the same room, with daily data collection using a Samsung Note20 phone equipped with the \"Samsung Voice Recorder\" app.  \n",
    "Each recorded audio file, averaging 1.5-2.5 minutes, was converted to .wav format via www.cloudconvert.com  \n",
    "Further processing included breaking down each .wav file into individual samples: meow (less than 3 seconds) and purrs (less than 5 seconds).\n",
    "\n",
    "3. **Dataset Composition:**  \n",
    "\n",
    "The dataset consists of:\n",
    "\n",
    "- 100 samples obtained under Condition `F`\n",
    "- 100 samples obtained under Condition `A`\n",
    "- 100 samples obtained under Condition `C`\n",
    "- 100 samples obtained under Condition `T`\n",
    "\n",
    "Additionally, we included 100 meows combined from a kid, adult male, and adult female to aid the program in recognizing human meow.  \n",
    "These samples are obtained under condition `KAT`  \n",
    "This diverse set of vocalizations allows us predict artificial meows if users want to simulate meowing themselves.\n",
    "\n",
    "Individual sample description:  \n",
    "202312071816_T_1.wav,  where\n",
    "- 2023 = year recorded\n",
    "- 12 = month recorded\n",
    "- 07 = day recorded\n",
    "- 18  = hour (24 hours) recorded\n",
    "- 16 = minute  recorded\n",
    "- T = condition recorded\n",
    "- 1 = number of the sample\n",
    "- wav = audio format of the sample\n"
   ]
  },
  {
   "cell_type": "markdown",
   "metadata": {},
   "source": []
  },
  {
   "cell_type": "code",
   "execution_count": 1,
   "metadata": {},
   "outputs": [],
   "source": [
    "import pandas as pd"
   ]
  },
  {
   "cell_type": "code",
   "execution_count": null,
   "metadata": {},
   "outputs": [],
   "source": []
  }
 ],
 "metadata": {
  "kernelspec": {
   "display_name": "base",
   "language": "python",
   "name": "python3"
  },
  "language_info": {
   "codemirror_mode": {
    "name": "ipython",
    "version": 3
   },
   "file_extension": ".py",
   "mimetype": "text/x-python",
   "name": "python",
   "nbconvert_exporter": "python",
   "pygments_lexer": "ipython3",
   "version": "3.9.13"
  }
 },
 "nbformat": 4,
 "nbformat_minor": 2
}
